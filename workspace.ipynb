{
 "cells": [
  {
   "cell_type": "code",
   "execution_count": 1,
   "metadata": {},
   "outputs": [],
   "source": [
    "from latex_table_pipeline import med_table, lit_table"
   ]
  },
  {
   "cell_type": "code",
   "execution_count": 7,
   "metadata": {},
   "outputs": [
    {
     "name": "stdout",
     "output_type": "stream",
     "text": [
      "Saving this table as median_table_2.tex...\n"
     ]
    }
   ],
   "source": [
    "path = '/Users/jack/Research/pipelines/system_figure_pipeline/data/'\n",
    "target_list = ['TOI-1855', 'TOI-2107', 'TOI-2368', 'TOI-3321', 'TOI-3894']\n",
    "target_list_2 = ['TOI-3919', 'TOI-4153', 'TOI-5232', 'TOI-5301']\n",
    "\n",
    "med_table(target_list_2, path, outputpath='output')"
   ]
  },
  {
   "cell_type": "code",
   "execution_count": 2,
   "metadata": {},
   "outputs": [
    {
     "name": "stdout",
     "output_type": "stream",
     "text": [
      "Saving this table as lit_table_2.tex...\n"
     ]
    }
   ],
   "source": [
    "target_list = ['TOI-1855', 'TOI-2107', 'TOI-2368', 'TOI-3321', 'TOI-3894']\n",
    "target_list_2 = ['TOI-3919', 'TOI-4153', 'TOI-5232', 'TOI-5301']\n",
    "\n",
    "lit_table(target_list, outputpath='output')"
   ]
  },
  {
   "cell_type": "code",
   "execution_count": null,
   "metadata": {},
   "outputs": [],
   "source": []
  }
 ],
 "metadata": {
  "kernelspec": {
   "display_name": "exoplanets",
   "language": "python",
   "name": "python3"
  },
  "language_info": {
   "codemirror_mode": {
    "name": "ipython",
    "version": 3
   },
   "file_extension": ".py",
   "mimetype": "text/x-python",
   "name": "python",
   "nbconvert_exporter": "python",
   "pygments_lexer": "ipython3",
   "version": "3.10.0"
  }
 },
 "nbformat": 4,
 "nbformat_minor": 2
}
