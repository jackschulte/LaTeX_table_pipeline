{
 "cells": [
  {
   "cell_type": "code",
   "execution_count": 1,
   "metadata": {},
   "outputs": [],
   "source": [
    "from latex_table_pipeline import med_table"
   ]
  },
  {
   "cell_type": "code",
   "execution_count": 2,
   "metadata": {},
   "outputs": [
    {
     "name": "stdout",
     "output_type": "stream",
     "text": [
      "Saving this table as median_table_4.tex...\n"
     ]
    },
    {
     "name": "stderr",
     "output_type": "stream",
     "text": [
      "/Users/jack/Research/pipelines/LaTeX_table_pipeline/latex_table_pipeline.py:30: FutureWarning: Calling float on a single element Series is deprecated and will raise a TypeError in the future. Use float(ser.iloc[0]) instead\n",
      "  uperr = float(medians.upper_error[medians.parname == param])\n",
      "/Users/jack/Research/pipelines/LaTeX_table_pipeline/latex_table_pipeline.py:31: FutureWarning: Calling float on a single element Series is deprecated and will raise a TypeError in the future. Use float(ser.iloc[0]) instead\n",
      "  loerr = float(medians.lower_error[medians.parname == param])\n",
      "/Users/jack/Research/pipelines/LaTeX_table_pipeline/latex_table_pipeline.py:36: FutureWarning: Calling float on a single element Series is deprecated and will raise a TypeError in the future. Use float(ser.iloc[0]) instead\n",
      "  array.append('& $' + str(float(medians.median_value[medians.parname == param])))\n",
      "/Users/jack/Research/pipelines/LaTeX_table_pipeline/latex_table_pipeline.py:30: FutureWarning: Calling float on a single element Series is deprecated and will raise a TypeError in the future. Use float(ser.iloc[0]) instead\n",
      "  uperr = float(medians.upper_error[medians.parname == param])\n",
      "/Users/jack/Research/pipelines/LaTeX_table_pipeline/latex_table_pipeline.py:31: FutureWarning: Calling float on a single element Series is deprecated and will raise a TypeError in the future. Use float(ser.iloc[0]) instead\n",
      "  loerr = float(medians.lower_error[medians.parname == param])\n",
      "/Users/jack/Research/pipelines/LaTeX_table_pipeline/latex_table_pipeline.py:36: FutureWarning: Calling float on a single element Series is deprecated and will raise a TypeError in the future. Use float(ser.iloc[0]) instead\n",
      "  array.append('& $' + str(float(medians.median_value[medians.parname == param])))\n",
      "/Users/jack/Research/pipelines/LaTeX_table_pipeline/latex_table_pipeline.py:30: FutureWarning: Calling float on a single element Series is deprecated and will raise a TypeError in the future. Use float(ser.iloc[0]) instead\n",
      "  uperr = float(medians.upper_error[medians.parname == param])\n",
      "/Users/jack/Research/pipelines/LaTeX_table_pipeline/latex_table_pipeline.py:31: FutureWarning: Calling float on a single element Series is deprecated and will raise a TypeError in the future. Use float(ser.iloc[0]) instead\n",
      "  loerr = float(medians.lower_error[medians.parname == param])\n",
      "/Users/jack/Research/pipelines/LaTeX_table_pipeline/latex_table_pipeline.py:36: FutureWarning: Calling float on a single element Series is deprecated and will raise a TypeError in the future. Use float(ser.iloc[0]) instead\n",
      "  array.append('& $' + str(float(medians.median_value[medians.parname == param])))\n",
      "/Users/jack/Research/pipelines/LaTeX_table_pipeline/latex_table_pipeline.py:30: FutureWarning: Calling float on a single element Series is deprecated and will raise a TypeError in the future. Use float(ser.iloc[0]) instead\n",
      "  uperr = float(medians.upper_error[medians.parname == param])\n",
      "/Users/jack/Research/pipelines/LaTeX_table_pipeline/latex_table_pipeline.py:31: FutureWarning: Calling float on a single element Series is deprecated and will raise a TypeError in the future. Use float(ser.iloc[0]) instead\n",
      "  loerr = float(medians.lower_error[medians.parname == param])\n",
      "/Users/jack/Research/pipelines/LaTeX_table_pipeline/latex_table_pipeline.py:36: FutureWarning: Calling float on a single element Series is deprecated and will raise a TypeError in the future. Use float(ser.iloc[0]) instead\n",
      "  array.append('& $' + str(float(medians.median_value[medians.parname == param])))\n",
      "/Users/jack/Research/pipelines/LaTeX_table_pipeline/latex_table_pipeline.py:30: FutureWarning: Calling float on a single element Series is deprecated and will raise a TypeError in the future. Use float(ser.iloc[0]) instead\n",
      "  uperr = float(medians.upper_error[medians.parname == param])\n",
      "/Users/jack/Research/pipelines/LaTeX_table_pipeline/latex_table_pipeline.py:31: FutureWarning: Calling float on a single element Series is deprecated and will raise a TypeError in the future. Use float(ser.iloc[0]) instead\n",
      "  loerr = float(medians.lower_error[medians.parname == param])\n",
      "/Users/jack/Research/pipelines/LaTeX_table_pipeline/latex_table_pipeline.py:36: FutureWarning: Calling float on a single element Series is deprecated and will raise a TypeError in the future. Use float(ser.iloc[0]) instead\n",
      "  array.append('& $' + str(float(medians.median_value[medians.parname == param])))\n"
     ]
    }
   ],
   "source": [
    "path = '/Users/jack/Research/pipelines/system_figure_pipeline/data/'\n",
    "target_list = ['TOI-1855', 'TOI-2107', 'TOI-2368', 'TOI-3129', 'TOI-3321']\n",
    "\n",
    "med_table(target_list, path, outputpath='output')"
   ]
  },
  {
   "cell_type": "code",
   "execution_count": null,
   "metadata": {},
   "outputs": [],
   "source": []
  }
 ],
 "metadata": {
  "kernelspec": {
   "display_name": "exoplanets",
   "language": "python",
   "name": "python3"
  },
  "language_info": {
   "codemirror_mode": {
    "name": "ipython",
    "version": 3
   },
   "file_extension": ".py",
   "mimetype": "text/x-python",
   "name": "python",
   "nbconvert_exporter": "python",
   "pygments_lexer": "ipython3",
   "version": "3.10.0"
  }
 },
 "nbformat": 4,
 "nbformat_minor": 2
}
