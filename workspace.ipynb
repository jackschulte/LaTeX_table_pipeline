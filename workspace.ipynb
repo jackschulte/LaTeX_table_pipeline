{
 "cells": [
  {
   "cell_type": "code",
   "execution_count": 1,
   "metadata": {},
   "outputs": [],
   "source": [
    "from latex_table_pipeline import med_table, lit_table"
   ]
  },
  {
   "cell_type": "code",
   "execution_count": 2,
   "metadata": {},
   "outputs": [],
   "source": [
    "with open('tres_password.txt', 'r') as file:\n",
    "    pw = file.read().replace('\\n', '')"
   ]
  },
  {
   "cell_type": "code",
   "execution_count": 3,
   "metadata": {},
   "outputs": [
    {
     "name": "stdout",
     "output_type": "stream",
     "text": [
      "Saving this table as median_table_2.tex...\n"
     ]
    }
   ],
   "source": [
    "path = '/Users/jack/Research/pipelines/system_figure_pipeline/meep2_data/'\n",
    "target_list = ['TOI-4138', 'TOI-4773', 'TOI-5261', 'TOI-5350', 'TOI-6420']\n",
    "file_prefix = ['257060897', 'TOI-4773', '402828941', '68808155', '143526233']\n",
    "# target_list_2 = ['TOI-3919', 'TOI-4153', 'TOI-5232', 'TOI-5301']\n",
    "# target_list_3 = ['TOI-5232', 'TOI-5301']\n",
    "# split_pdfs_list = ['TOI-3894.MIST.SED.lowmass', 'TOI-3894.MIST.SED.highmass', 'TOI-5301.MIST.SED.lowmass', 'TOI-5301.MIST.SED.highmass']\n",
    "\n",
    "med_table(target_list=target_list, path=path, file_prefix_list=file_prefix, outputpath='output', bimodal=False)"
   ]
  },
  {
   "cell_type": "code",
   "execution_count": 6,
   "metadata": {},
   "outputs": [
    {
     "name": "stdout",
     "output_type": "stream",
     "text": [
      "Saving this table as median_table_2.tex...\n"
     ]
    }
   ],
   "source": [
    "path = '/Users/jack/Research/pipelines/system_figure_pipeline/meep2_data/'\n",
    "split_pdfs_list = ['TOI-4138 (High Mass)', 'TOI-4138 (Low Mass)']\n",
    "file_prefix_list = ['257060897.highmass', '257060897.lowmass']\n",
    "\n",
    "med_table(split_pdfs_list, path + 'bimodalities/', outputpath='output', file_prefix_list=file_prefix_list, bimodal=True)"
   ]
  },
  {
   "cell_type": "code",
   "execution_count": 6,
   "metadata": {},
   "outputs": [
    {
     "name": "stdout",
     "output_type": "stream",
     "text": [
      "Saving this table as lit_table_2.tex...\n"
     ]
    }
   ],
   "source": [
    "path = '/Users/jack/Research/pipelines/system_figure_pipeline/meep2_data/'\n",
    "target_list = ['TOI-4138', 'TOI-4773', 'TOI-5261', 'TOI-5350', 'TOI-6420']\n",
    "file_prefix = ['257060897', 'TOI-4773', '402828941', '68808155', '143526233']\n",
    "\n",
    "lit_table(target_list, path, file_prefix=file_prefix, outputpath='output', vsini_type='tres', tres_username='schulte', tres_password = pw, add_source_column=True)"
   ]
  },
  {
   "cell_type": "code",
   "execution_count": null,
   "metadata": {},
   "outputs": [],
   "source": []
  }
 ],
 "metadata": {
  "kernelspec": {
   "display_name": "research",
   "language": "python",
   "name": "python3"
  },
  "language_info": {
   "codemirror_mode": {
    "name": "ipython",
    "version": 3
   },
   "file_extension": ".py",
   "mimetype": "text/x-python",
   "name": "python",
   "nbconvert_exporter": "python",
   "pygments_lexer": "ipython3",
   "version": "3.10.14"
  }
 },
 "nbformat": 4,
 "nbformat_minor": 2
}
